{
  "nbformat": 4,
  "nbformat_minor": 0,
  "metadata": {
    "colab": {
      "provenance": []
    },
    "kernelspec": {
      "name": "python3",
      "display_name": "Python 3"
    },
    "language_info": {
      "name": "python"
    }
  },
  "cells": [
    {
      "cell_type": "markdown",
      "source": [
        "Importing necessary libraries"
      ],
      "metadata": {
        "id": "xjVxzlQF0LJ2"
      }
    },
    {
      "cell_type": "code",
      "source": [
        "import pandas as pd\n",
        "from sklearn.cluster import KMeans\n",
        "from fuzzywuzzy import process\n",
        "#If these package not available, run this\n",
        "#%pip install pandas\n",
        "#%pip install -U scikit-learn\n",
        "#%pip install fuzzywuzzy\n",
        "#%pip install fuzzywuzzy[speedup]"
      ],
      "metadata": {
        "id": "BT1dfz9W0JjE"
      },
      "execution_count": 19,
      "outputs": []
    },
    {
      "cell_type": "markdown",
      "source": [
        "Displaying the complete output"
      ],
      "metadata": {
        "id": "wF7iT5oT1gLt"
      }
    },
    {
      "cell_type": "code",
      "source": [
        "pd.set_option('display.max_rows', None,\n",
        "              'display.width', 9000)"
      ],
      "metadata": {
        "id": "hQHjarPT1mdh"
      },
      "execution_count": 20,
      "outputs": []
    },
    {
      "cell_type": "markdown",
      "source": [
        "Importing the suitable dataset"
      ],
      "metadata": {
        "id": "rjbNrtBr2-x8"
      }
    },
    {
      "cell_type": "code",
      "source": [
        "spotify_data = pd.read_csv(\"genres_v2.csv\", low_memory=False)\n",
        "#using low_memory=False because they contain large data"
      ],
      "metadata": {
        "id": "3v0hdP9k1oFy"
      },
      "execution_count": 21,
      "outputs": []
    },
    {
      "cell_type": "markdown",
      "source": [
        "Defining the necessary data form dataset for the program"
      ],
      "metadata": {
        "id": "k3gjqWim2iQI"
      }
    },
    {
      "cell_type": "code",
      "source": [
        "X = spotify_data[['danceability', 'energy', 'loudness', 'speechiness', 'acousticness', 'instrumentalness', 'liveness', 'valence', 'tempo']]"
      ],
      "metadata": {
        "id": "ktFZWP4_2ifG"
      },
      "execution_count": 22,
      "outputs": []
    },
    {
      "cell_type": "markdown",
      "source": [
        "Fitting K-Means clustering model and geting cluster model"
      ],
      "metadata": {
        "id": "MAKj02pn7HLK"
      }
    },
    {
      "cell_type": "code",
      "source": [
        "# Fit K-Means clustering model\n",
        "kmeans = KMeans(n_clusters=10, random_state=42)\n",
        "# Convert DataFrame to numpy array\n",
        "X_array = X.values\n",
        "\n",
        "# Fit K-Means clustering model with numpy array\n",
        "kmeans.fit(X_array)\n",
        "\n",
        "# Get cluster labels\n",
        "spotify_data['cluster'] = kmeans.labels_"
      ],
      "metadata": {
        "id": "PfMfL8g22k7B"
      },
      "execution_count": 23,
      "outputs": []
    },
    {
      "cell_type": "markdown",
      "source": [
        "Definign the function for recommended song from user input"
      ],
      "metadata": {
        "id": "yW4l6TyQ2lwv"
      }
    },
    {
      "cell_type": "code",
      "source": [
        "# Define function to recommend songs based on user input\n",
        "def recommend_songs(user_input, num_recommendations= 5, preferred_genre=None):\n",
        "    user_cluster = kmeans.predict([user_input])[0]\n",
        "    cluster_songs = spotify_data[spotify_data['cluster'] == user_cluster]\n",
        "    if preferred_genre:\n",
        "        cluster_songs = cluster_songs[cluster_songs['genre'].str.lower().str.contains(preferred_genre.lower())]\n",
        "    recommendations = cluster_songs.sample(num_recommendations)\n",
        "    #print(recommendations)-Dummycheck\n",
        "    def merge_columns(row):\n",
        "        if pd.isnull(row['song_name']):\n",
        "            return row['title']\n",
        "        else:\n",
        "            return row['song_name']\n",
        "    recommendations['merged_column']= recommendations.apply(merge_columns, axis=1)\n",
        "    recommendations= recommendations.drop(columns=['song_name', 'title'])\n",
        "    recommendations= recommendations.rename(columns={'merged_column':'Title of Track'})\n",
        "    #print(recommendations)-dummycheck\n",
        "    return recommendations[['Title of Track', 'genre', 'id']]\n",
        "\n"
      ],
      "metadata": {
        "id": "6582UVaG2l9G"
      },
      "execution_count": 24,
      "outputs": []
    },
    {
      "cell_type": "markdown",
      "source": [
        "Defining a function to get features of user's favorite song"
      ],
      "metadata": {
        "id": "9-jegofJpeEq"
      }
    },
    {
      "cell_type": "code",
      "source": [
        "# Function to get features of user's favorite song\n",
        "def get_favorite_song_features(song_name):\n",
        "    # Filter out NaN values in the song_name column\n",
        "    filtered_spotify_data = spotify_data.dropna(subset=['song_name'])\n",
        "    song_name_lower = song_name.lower()\n",
        "    matching_song = process.extractOne(song_name_lower, filtered_spotify_data['song_name'].str.lower())\n",
        "    #print(\"Matching song:\", matching_song)\n",
        "    if matching_song and matching_song[1] >= 90:  # Adjust the threshold as needed\n",
        "        song_features = filtered_spotify_data[filtered_spotify_data['song_name'].str.lower() == matching_song[0]]\n",
        "        return song_features.iloc[0][['danceability', 'energy', 'loudness', 'speechiness', 'acousticness', 'instrumentalness', 'liveness', 'valence', 'tempo']]\n",
        "    else:\n",
        "        print(\"Sorry, no similar song found in the dataset.\")\n",
        "        return None"
      ],
      "metadata": {
        "id": "PGenq-ObpPsW"
      },
      "execution_count": 25,
      "outputs": []
    },
    {
      "cell_type": "markdown",
      "source": [
        "Defining a function to get user input for preferred genre"
      ],
      "metadata": {
        "id": "qGDU8RSwpel6"
      }
    },
    {
      "cell_type": "code",
      "source": [
        "# Function to get user input for preferred genre\n",
        "def get_preferred_genre():\n",
        "    while True:\n",
        "        preferred_genre = input(\"Enter your preferred genre (or leave blank for any genre): \")\n",
        "        if preferred_genre.strip() == \"\":\n",
        "            return None\n",
        "        else:\n",
        "            return preferred_genre\n"
      ],
      "metadata": {
        "id": "F6kTzK9CpPiZ"
      },
      "execution_count": 26,
      "outputs": []
    },
    {
      "cell_type": "markdown",
      "source": [
        "Defining wokring main function to run the recommendation system"
      ],
      "metadata": {
        "id": "8NbR_gi9pfEr"
      }
    },
    {
      "cell_type": "code",
      "source": [
        "# Main function to run the recommendation system\n",
        "def main():\n",
        "    print(\"Welcome to the Spotify Music Recommendation System!\")\n",
        "    print(\"Please provide the name of your favorite song.\")\n",
        "    favorite_song = input(\"Favorite Song: \")\n",
        "    favorite_song_features = get_favorite_song_features(favorite_song)\n",
        "    if favorite_song_features is not None:\n",
        "        preferred_genre = get_preferred_genre()\n",
        "        num_recommendations = int(input(\"How many recommendations do you want? \"))\n",
        "        recommended_songs = recommend_songs(favorite_song_features.values.tolist(), num_recommendations, preferred_genre)\n",
        "        print(\"\\nRecommended Songs:\")\n",
        "        print(recommended_songs)"
      ],
      "metadata": {
        "id": "4wq2n0OspcQ1"
      },
      "execution_count": 27,
      "outputs": []
    },
    {
      "cell_type": "markdown",
      "source": [
        "To make this program run"
      ],
      "metadata": {
        "id": "6UPIcRDV7ci5"
      }
    },
    {
      "cell_type": "code",
      "source": [
        "if __name__ == \"__main__\":\n",
        "    main()"
      ],
      "metadata": {
        "colab": {
          "base_uri": "https://localhost:8080/"
        },
        "id": "KdDpg4o62729",
        "outputId": "0ea6a3d2-69de-4585-b1af-0a098cb62112"
      },
      "execution_count": 28,
      "outputs": [
        {
          "output_type": "stream",
          "name": "stdout",
          "text": [
            "Welcome to the Spotify Music Recommendation System!\n",
            "Please provide the name of your favorite song.\n",
            "Favorite Song: die for you\n",
            "Enter your preferred genre (or leave blank for any genre): underground rap\n",
            "How many recommendations do you want? 15\n",
            "\n",
            "Recommended Songs:\n",
            "                Title of Track            genre                      id\n",
            "9403                  Who I Am  Underground Rap  3R4RYdujDfurVr1rNgvSwo\n",
            "4811                   No More  Underground Rap  4VumDINv4Bnejz77vYD5a0\n",
            "9645                Money Talk  Underground Rap  4zLo5ZaUugTtAeXU4LliG6\n",
            "5516               Addison Rae  Underground Rap  2ImaJZH7XqxrzbQZpYDmol\n",
            "6613       PINK WITCH / LESSON  Underground Rap  3cyJAZm2r79wdzrsQtv5Ob\n",
            "9173                   Revenge  Underground Rap  5TXDeTFVRVY7Cvt0Dw4vWW\n",
            "8893                     Water  Underground Rap  6HEIBHUirx1J0JkUD24szt\n",
            "7843         Underwater Malibu  Underground Rap  6Ejtof7rrcWvMMMhx9rEQX\n",
            "8644       Catch Me In Traffic  Underground Rap  027onM1IInwLqghznNadYS\n",
            "5578   Talk to Me Before I Die  Underground Rap  2eyDJTl0qaGFfPYNCa26xq\n",
            "7905                    Bitter  Underground Rap  1W4iTlAKVEbhw3nH71c6zO\n",
            "8326              Planet Earth  Underground Rap  3PjyO6ZNk8POAKOz0G56ZP\n",
            "8249              TheCafeteria  Underground Rap  2NIlb0wVtxX2CPZSoXNrHK\n",
            "9408                  Soulfood  Underground Rap  2uL3sat19TiMOOahR2jutD\n",
            "10112               Expose You  Underground Rap  1QHy9Xowt0H5ejPRsIE9ls\n"
          ]
        }
      ]
    }
  ]
}